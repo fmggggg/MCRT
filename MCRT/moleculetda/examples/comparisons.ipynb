{
 "cells": [
  {
   "cell_type": "code",
   "execution_count": 4,
   "metadata": {},
   "outputs": [],
   "source": [
    "import sys \n",
    "sys.path.append('../')\n",
    "from read_file import *\n",
    "import dionysus as d"
   ]
  },
  {
   "cell_type": "code",
   "execution_count": 23,
   "metadata": {},
   "outputs": [],
   "source": [
    "# Construct topological signatures among three structures as an example\n",
    "struct_path = '../files/mof_structs/'\n",
    "structures = [struct_path + 'str_m4_o1_o1_acs_sym.10.cif', struct_path + 'str_m4_o1_o1_acs_sym.46.cif', struct_path + 'str_m4_o1_o14_acs_sym.68.cif']"
   ]
  },
  {
   "cell_type": "code",
   "execution_count": 25,
   "metadata": {},
   "outputs": [],
   "source": [
    "def structure_to_pd(filename, supercell_size):\n",
    "    \"\"\"Convert structure file to all dimensions of persistence diagrams.\n",
    "\n",
    "    Args:\n",
    "        filename: Path to structure file.\n",
    "        supercell_size: If wanting to create a cubic supercell, specify in Angstrom\n",
    "        the dimension (i.e. length/width/height).\n",
    "\n",
    "    Return:\n",
    "        List[pd_objects]\n",
    "\n",
    "    \"\"\"\n",
    "    if supercell_size:\n",
    "        coords = read_data(filename, size=supercell_size, supercell=True)\n",
    "    else:\n",
    "        coords = read_data(filename, size=None, supercell=False)\n",
    "    dgms = construct_pds(coords)\n",
    "\n",
    "    return dgms\n",
    "\n",
    "# Since this is a small list of structures, we can just calculate all of them here. Otherwise, calculate and store.\n",
    "all_dgms = [structure_to_pd(structure, None) for structure in structures]"
   ]
  },
  {
   "cell_type": "code",
   "execution_count": 31,
   "metadata": {},
   "outputs": [],
   "source": [
    "def compute_dist(dgms1, dgms2, n, q=1, delta=0.05):\n",
    "    \"\"\"\n",
    "    Args:\n",
    "        dgms1: all PDs (dionysus object) for one structure\n",
    "        dgms2: all PDs (dionysus object) for another structure\n",
    "        n: n-th persistence diagram (e.g., 0, 1, 2)\n",
    "        q: qth Wasserstein distance\n",
    "        delta: approximation term\n",
    "    \n",
    "    Return:\n",
    "        Distance between topological signatures\n",
    "    \"\"\"\n",
    "    wdist = d.wasserstein_distance(dgms1[n], dgms2[n], q=q, delta=delta)\n",
    "    return wdist"
   ]
  },
  {
   "cell_type": "code",
   "execution_count": 38,
   "metadata": {},
   "outputs": [
    {
     "name": "stdout",
     "output_type": "stream",
     "text": [
      "9.752080917358398\n",
      "13.34542465209961\n",
      "10.466400146484375\n"
     ]
    }
   ],
   "source": [
    "# Compute all the combinations of pairs between the topological signatures\n",
    "from itertools import combinations\n",
    "combos = combinations(all_dgms, 2)\n",
    "\n",
    "# Calculating distances between structures, this can be easily parallelized\n",
    "for combo in combos:\n",
    "    dgms1 = combo[0]\n",
    "    dgms2 = combo[1]\n",
    "    wdist = compute_dist(dgms1, dgms2, 2)\n",
    "    print(wdist)"
   ]
  },
  {
   "cell_type": "code",
   "execution_count": null,
   "metadata": {},
   "outputs": [],
   "source": []
  },
  {
   "cell_type": "code",
   "execution_count": null,
   "metadata": {},
   "outputs": [],
   "source": []
  }
 ],
 "metadata": {
  "kernelspec": {
   "display_name": "Python 3",
   "language": "python",
   "name": "python3"
  },
  "language_info": {
   "codemirror_mode": {
    "name": "ipython",
    "version": 3
   },
   "file_extension": ".py",
   "mimetype": "text/x-python",
   "name": "python",
   "nbconvert_exporter": "python",
   "pygments_lexer": "ipython3",
   "version": "3.7.3"
  }
 },
 "nbformat": 4,
 "nbformat_minor": 2
}
